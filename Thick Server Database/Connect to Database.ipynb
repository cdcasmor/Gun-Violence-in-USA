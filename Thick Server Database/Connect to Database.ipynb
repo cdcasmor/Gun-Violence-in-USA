{
 "cells": [
  {
   "cell_type": "code",
   "execution_count": 1,
   "metadata": {
    "collapsed": true
   },
   "outputs": [],
   "source": [
    "import pandas as pd\n",
    "from sqlalchemy import create_engine"
   ]
  },
  {
   "cell_type": "code",
   "execution_count": 2,
   "metadata": {},
   "outputs": [],
   "source": [
    "from config import user, password"
   ]
  },
  {
   "cell_type": "code",
   "execution_count": 3,
   "metadata": {},
   "outputs": [],
   "source": [
    "import pymysql\n",
    "pymysql.install_as_MySQLdb()\n",
    "engine = create_engine('mysql://' + user + ':' + password + '@imdb-project.cj1m13sfkxlg.us-east-2.rds.amazonaws.com:3306/gundata')\n"
   ]
  },
  {
   "cell_type": "code",
   "execution_count": 4,
   "metadata": {},
   "outputs": [],
   "source": [
    "#Query records\n",
    "data = engine.execute(\"SELECT Year(Date), COALESCE(state, 'Total') as st, SUM(n_killed) as Gun_Deaths FROM gundata GROUP BY Year(Date),st WITH ROLLUP\")\n",
    "query1 = \"SELECT Year(Date), COALESCE(state, 'Total') as st, SUM(n_killed) as Gun_Deaths FROM gundata GROUP BY Year(Date),st WITH ROLLUP\""
   ]
  },
  {
   "cell_type": "code",
   "execution_count": 6,
   "metadata": {},
   "outputs": [
    {
     "name": "stdout",
     "output_type": "stream",
     "text": [
      "(2013, 'Alabama', Decimal('3'))\n(2013, 'Arizona', Decimal('8'))\n(2013, 'California', Decimal('46'))\n(2013, 'Colorado', Decimal('4'))\n(2013, 'Connecticut', Decimal('2'))\n(2013, 'Delaware', Decimal('3'))\n(2013, 'District of Columbia', Decimal('12'))\n(2013, 'Florida', Decimal('22'))\n(2013, 'Georgia', Decimal('5'))\n(2013, 'Illinois', Decimal('14'))\n(2013, 'Indiana', Decimal('9'))\n(2013, 'Kansas', Decimal('6'))\n(2013, 'Kentucky', Decimal('4'))\n(2013, 'Louisiana', Decimal('8'))\n(2013, 'Maryland', Decimal('5'))\n(2013, 'Michigan', Decimal('9'))\n(2013, 'Minnesota', Decimal('3'))\n(2013, 'Mississippi', Decimal('2'))\n(2013, 'Missouri', Decimal('9'))\n(2013, 'Nebraska', Decimal('0'))\n(2013, 'Nevada', Decimal('0'))\n(2013, 'New Jersey', Decimal('12'))\n(2013, 'New Mexico', Decimal('5'))\n(2013, 'New York', Decimal('15'))\n(2013, 'North Carolina', Decimal('5'))\n(2013, 'Ohio', Decimal('10'))\n(2013, 'Oklahoma', Decimal('14'))\n(2013, 'Pennsylvania', Decimal('13'))\n(2013, 'Rhode Island', Decimal('1'))\n(2013, 'South Carolina', Decimal('11'))\n(2013, 'Tennessee', Decimal('14'))\n(2013, 'Texas', Decimal('24'))\n(2013, 'Utah', Decimal('4'))\n(2013, 'Virginia', Decimal('3'))\n(2013, 'Washington', Decimal('8'))\n(2013, 'West Virginia', Decimal('4'))\n(2013, 'Wisconsin', Decimal('0'))\n(2013, None, Decimal('317'))\n(2014, 'Alabama', Decimal('325'))\n(2014, 'Alaska', Decimal('29'))\n(2014, 'Arizona', Decimal('220'))\n(2014, 'Arkansas', Decimal('169'))\n(2014, 'California', Decimal('1320'))\n(2014, 'Colorado', Decimal('149'))\n(2014, 'Connecticut', Decimal('75'))\n(2014, 'Delaware', Decimal('50'))\n(2014, 'District of Columbia', Decimal('92'))\n(2014, 'Florida', Decimal('873'))\n(2014, 'Georgia', Decimal('522'))\n(2014, 'Hawaii', Decimal('8'))\n(2014, 'Idaho', Decimal('31'))\n(2014, 'Illinois', Decimal('637'))\n(2014, 'Indiana', Decimal('330'))\n(2014, 'Iowa', Decimal('62'))\n(2014, 'Kansas', Decimal('94'))\n(2014, 'Kentucky', Decimal('194'))\n(2014, 'Louisiana', Decimal('465'))\n(2014, 'Maine', Decimal('22'))\n(2014, 'Maryland', Decimal('294'))\n(2014, 'Massachusetts', Decimal('101'))\n(2014, 'Michigan', Decimal('347'))\n(2014, 'Minnesota', Decimal('86'))\n(2014, 'Mississippi', Decimal('231'))\n(2014, 'Missouri', Decimal('383'))\n(2014, 'Montana', Decimal('32'))\n(2014, 'Nebraska', Decimal('51'))\n(2014, 'Nevada', Decimal('150'))\n(2014, 'New Hampshire', Decimal('22'))\n(2014, 'New Jersey', Decimal('278'))\n(2014, 'New Mexico', Decimal('90'))\n(2014, 'New York', Decimal('397'))\n(2014, 'North Carolina', Decimal('487'))\n(2014, 'North Dakota', Decimal('15'))\n(2014, 'Ohio', Decimal('494'))\n(2014, 'Oklahoma', Decimal('171'))\n(2014, 'Oregon', Decimal('96'))\n(2014, 'Pennsylvania', Decimal('547'))\n(2014, 'Rhode Island', Decimal('18'))\n(2014, 'South Carolina', Decimal('344'))\n(2014, 'South Dakota', Decimal('16'))\n(2014, 'Tennessee', Decimal('352'))\n(2014, 'Texas', Decimal('1094'))\n(2014, 'Utah', Decimal('62'))\n(2014, 'Vermont', Decimal('18'))\n(2014, 'Virginia', Decimal('284'))\n(2014, 'Washington', Decimal('181'))\n(2014, 'West Virginia', Decimal('70'))\n(2014, 'Wisconsin', Decimal('163'))\n(2014, 'Wyoming', Decimal('15'))\n(2014, None, Decimal('12556'))\n(2015, 'Alabama', Decimal('385'))\n(2015, 'Alaska', Decimal('70'))\n(2015, 'Arizona', Decimal('215'))\n(2015, 'Arkansas', Decimal('155'))\n(2015, 'California', Decimal('1204'))\n(2015, 'Colorado', Decimal('176'))\n(2015, 'Connecticut', Decimal('90'))\n(2015, 'Delaware', Decimal('58'))\n(2015, 'District of Columbia', Decimal('124'))\n(2015, 'Florida', Decimal('796'))\n(2015, 'Georgia', Decimal('595'))\n(2015, 'Hawaii', Decimal('12'))\n(2015, 'Idaho', Decimal('40'))\n(2015, 'Illinois', Decimal('688'))\n(2015, 'Indiana', Decimal('346'))\n(2015, 'Iowa', Decimal('60'))\n(2015, 'Kansas', Decimal('127'))\n(2015, 'Kentucky', Decimal('230'))\n(2015, 'Louisiana', Decimal('501'))\n(2015, 'Maine', Decimal('31'))\n(2015, 'Maryland', Decimal('404'))\n(2015, 'Massachusetts', Decimal('109'))\n(2015, 'Michigan', Decimal('355'))\n(2015, 'Minnesota', Decimal('123'))\n(2015, 'Mississippi', Decimal('223'))\n(2015, 'Missouri', Decimal('492'))\n(2015, 'Montana', Decimal('34'))\n(2015, 'Nebraska', Decimal('59'))\n(2015, 'Nevada', Decimal('183'))\n(2015, 'New Hampshire', Decimal('22'))\n(2015, 'New Jersey', Decimal('249'))\n(2015, 'New Mexico', Decimal('116'))\n(2015, 'New York', Decimal('463'))\n(2015, 'North Carolina', Decimal('493'))\n(2015, 'North Dakota', Decimal('18'))\n(2015, 'Ohio', Decimal('537'))\n(2015, 'Oklahoma', Decimal('220'))\n(2015, 'Oregon', Decimal('125'))\n(2015, 'Pennsylvania', Decimal('508'))\n(2015, 'Rhode Island', Decimal('14'))\n(2015, 'South Carolina', Decimal('384'))\n(2015, 'South Dakota', Decimal('25'))\n(2015, 'Tennessee', Decimal('395'))\n(2015, 'Texas', Decimal('1136'))\n(2015, 'Utah', Decimal('66'))\n(2015, 'Vermont', Decimal('13'))\n(2015, 'Virginia', Decimal('317'))\n(2015, 'Washington', Decimal('197'))\n(2015, 'West Virginia', Decimal('58'))\n(2015, 'Wisconsin', Decimal('222'))\n(2015, 'Wyoming', Decimal('21'))\n(2015, None, Decimal('13484'))\n(2016, 'Alabama', Decimal('488'))\n(2016, 'Alaska', Decimal('88'))\n(2016, 'Arizona', Decimal('277'))\n(2016, 'Arkansas', Decimal('190'))\n(2016, 'California', Decimal('1265'))\n(2016, 'Colorado', Decimal('207'))\n(2016, 'Connecticut', Decimal('68'))\n(2016, 'Delaware', Decimal('42'))\n(2016, 'District of Columbia', Decimal('106'))\n(2016, 'Florida', Decimal('1001'))\n(2016, 'Georgia', Decimal('548'))\n(2016, 'Hawaii', Decimal('34'))\n(2016, 'Idaho', Decimal('34'))\n(2016, 'Illinois', Decimal('946'))\n(2016, 'Indiana', Decimal('420'))\n(2016, 'Iowa', Decimal('70'))\n(2016, 'Kansas', Decimal('125'))\n(2016, 'Kentucky', Decimal('288'))\n(2016, 'Louisiana', Decimal('527'))\n(2016, 'Maine', Decimal('18'))\n(2016, 'Maryland', Decimal('429'))\n(2016, 'Massachusetts', Decimal('112'))\n(2016, 'Michigan', Decimal('385'))\n(2016, 'Minnesota', Decimal('108'))\n(2016, 'Mississippi', Decimal('290'))\n(2016, 'Missouri', Decimal('515'))\n(2016, 'Montana', Decimal('42'))\n(2016, 'Nebraska', Decimal('57'))\n(2016, 'Nevada', Decimal('205'))\n(2016, 'New Hampshire', Decimal('20'))\n(2016, 'New Jersey', Decimal('297'))\n(2016, 'New Mexico', Decimal('122'))\n(2016, 'New York', Decimal('416'))\n(2016, 'North Carolina', Decimal('576'))\n(2016, 'North Dakota', Decimal('18'))\n(2016, 'Ohio', Decimal('628'))\n(2016, 'Oklahoma', Decimal('243'))\n(2016, 'Oregon', Decimal('95'))\n(2016, 'Pennsylvania', Decimal('556'))\n(2016, 'Rhode Island', Decimal('14'))\n(2016, 'South Carolina', Decimal('387'))\n(2016, 'South Dakota', Decimal('23'))\n(2016, 'Tennessee', Decimal('470'))\n(2016, 'Texas', Decimal('1313'))\n(2016, 'Utah', Decimal('70'))\n(2016, 'Vermont', Decimal('13'))\n(2016, 'Virginia', Decimal('398'))\n(2016, 'Washington', Decimal('183'))\n(2016, 'West Virginia', Decimal('99'))\n(2016, 'Wisconsin', Decimal('222'))\n(2016, 'Wyoming', Decimal('18'))\n(2016, None, Decimal('15066'))\n(2017, 'Alabama', Decimal('544'))\n(2017, 'Alaska', Decimal('69'))\n(2017, 'Arizona', Decimal('289'))\n(2017, 'Arkansas', Decimal('216'))\n(2017, 'California', Decimal('1423'))\n(2017, 'Colorado', Decimal('199'))\n(2017, 'Connecticut', Decimal('89'))\n(2017, 'Delaware', Decimal('56'))\n(2017, 'District of Columbia', Decimal('100'))\n(2017, 'Florida', Decimal('950'))\n(2017, 'Georgia', Decimal('658'))\n(2017, 'Hawaii', Decimal('8'))\n(2017, 'Idaho', Decimal('47'))\n(2017, 'Illinois', Decimal('959'))\n(2017, 'Indiana', Decimal('407'))\n(2017, 'Iowa', Decimal('71'))\n(2017, 'Kansas', Decimal('152'))\n(2017, 'Kentucky', Decimal('273'))\n(2017, 'Louisiana', Decimal('549'))\n(2017, 'Maine', Decimal('33'))\n(2017, 'Maryland', Decimal('480'))\n(2017, 'Massachusetts', Decimal('128'))\n(2017, 'Michigan', Decimal('369'))\n(2017, 'Minnesota', Decimal('115'))\n(2017, 'Mississippi', Decimal('324'))\n(2017, 'Missouri', Decimal('609'))\n(2017, 'Montana', Decimal('41'))\n(2017, 'Nebraska', Decimal('47'))\n(2017, 'Nevada', Decimal('200'))\n(2017, 'New Hampshire', Decimal('23'))\n(2017, 'New Jersey', Decimal('275'))\n(2017, 'New Mexico', Decimal('125'))\n(2017, 'New York', Decimal('347'))\n(2017, 'North Carolina', Decimal('556'))\n(2017, 'North Dakota', Decimal('15'))\n(2017, 'Ohio', Decimal('700'))\n(2017, 'Oklahoma', Decimal('249'))\n(2017, 'Oregon', Decimal('99'))\n(2017, 'Pennsylvania', Decimal('635'))\n(2017, 'Rhode Island', Decimal('11'))\n(2017, 'South Carolina', Decimal('395'))\n(2017, 'South Dakota', Decimal('19'))\n(2017, 'Tennessee', Decimal('495'))\n(2017, 'Texas', Decimal('1169'))\n(2017, 'Utah', Decimal('70'))\n(2017, 'Vermont', Decimal('9'))\n(2017, 'Virginia', Decimal('385'))\n(2017, 'Washington', Decimal('230'))\n(2017, 'West Virginia', Decimal('81'))\n(2017, 'Wisconsin', Decimal('209'))\n(2017, 'Wyoming', Decimal('9'))\n(2017, None, Decimal('15511'))\n(2018, 'Alabama', Decimal('135'))\n(2018, 'Alaska', Decimal('11'))\n(2018, 'Arizona', Decimal('85'))\n(2018, 'Arkansas', Decimal('43'))\n(2018, 'California', Decimal('304'))\n(2018, 'Colorado', Decimal('61'))\n(2018, 'Connecticut', Decimal('17'))\n(2018, 'Delaware', Decimal('8'))\n(2018, 'District of Columbia', Decimal('25'))\n(2018, 'Florida', Decimal('267'))\n(2018, 'Georgia', Decimal('128'))\n(2018, 'Hawaii', Decimal('1'))\n(2018, 'Idaho', Decimal('14'))\n(2018, 'Illinois', Decimal('165'))\n(2018, 'Indiana', Decimal('96'))\n(2018, 'Iowa', Decimal('10'))\n(2018, 'Kansas', Decimal('38'))\n(2018, 'Kentucky', Decimal('77'))\n(2018, 'Louisiana', Decimal('129'))\n(2018, 'Maine', Decimal('8'))\n(2018, 'Maryland', Decimal('79'))\n(2018, 'Massachusetts', Decimal('22'))\n(2018, 'Michigan', Decimal('122'))\n(2018, 'Minnesota', Decimal('26'))\n(2018, 'Mississippi', Decimal('106'))\n(2018, 'Missouri', Decimal('128'))\n(2018, 'Montana', Decimal('5'))\n(2018, 'Nebraska', Decimal('11'))\n(2018, 'Nevada', Decimal('61'))\n(2018, 'New Hampshire', Decimal('1'))\n(2018, 'New Jersey', Decimal('57'))\n(2018, 'New Mexico', Decimal('37'))\n(2018, 'New York', Decimal('67'))\n(2018, 'North Carolina', Decimal('108'))\n(2018, 'North Dakota', Decimal('3'))\n(2018, 'Ohio', Decimal('139'))\n(2018, 'Oklahoma', Decimal('44'))\n(2018, 'Oregon', Decimal('31'))\n(2018, 'Pennsylvania', Decimal('136'))\n(2018, 'Rhode Island', Decimal('5'))\n(2018, 'South Carolina', Decimal('89'))\n(2018, 'South Dakota', Decimal('7'))\n(2018, 'Tennessee', Decimal('98'))\n(2018, 'Texas', Decimal('310'))\n(2018, 'Utah', Decimal('10'))\n(2018, 'Vermont', Decimal('4'))\n(2018, 'Virginia', Decimal('72'))\n(2018, 'Washington', Decimal('54'))\n(2018, 'West Virginia', Decimal('23'))\n(2018, 'Wisconsin', Decimal('46'))\n(2018, 'Wyoming', Decimal('10'))\n(2018, None, Decimal('3533'))\n(None, None, Decimal('60467'))\n"
     ]
    }
   ],
   "source": [
    "for record in data:\n",
    "    print(record)\n"
   ]
  },
  {
   "cell_type": "code",
   "execution_count": 6,
   "metadata": {
    "collapsed": true
   },
   "outputs": [],
   "source": [
    "df1 = pd.read_sql_query(query1,engine)\n"
   ]
  },
  {
   "cell_type": "code",
   "execution_count": 7,
   "metadata": {},
   "outputs": [],
   "source": [
    "df1.to_json(path_or_buf='overall_gun_deaths_by_year.json',orient='records')"
   ]
  },
  {
   "cell_type": "code",
   "execution_count": 11,
   "metadata": {
    "collapsed": true
   },
   "outputs": [],
   "source": [
    "query2 = \"\"\"\n",
    "SELECT year(gundata.date),gundata.state,city_or_county,latitude,longitude,sum(n_killed) FROM gundata\n",
    "LEFT JOIN\t\t(SELECT state,year(date)\n",
    "\t\t\t\tFROM gundata\n",
    "\t\t\t\tGROUP BY state,year(date)\n",
    "\t\t\t\tORDER BY SUM(n_killed) DESC\n",
    "                LIMIT 5) as sub\n",
    "ON gundata.state = sub.state\n",
    "WHERE sub.state IS NOT NULL\n",
    "GROUP BY city_or_county, year(gundata.date)\n",
    "ORDER BY sum(n_killed) DESC;\n",
    "\"\"\"\n",
    "\n",
    "\n",
    "df2 = pd.read_sql_query(query2,engine)\n",
    "df2.to_json(path_or_buf='Nationwide_gun_deaths.json',orient='records')\n"
   ]
  },
  {
   "cell_type": "code",
   "execution_count": 22,
   "metadata": {
    "collapsed": false
   },
   "outputs": [],
   "source": [
    "#Used Stored Procedure\n",
    "df3 = pd.read_sql_query(\"call Cause_Of_Gun_Deaths()\", engine)\n",
    "df3.to_json(path_or_buf='Cause_of_Gun_Deaths_by_City_State_Year.json',orient='records')\n"
   ]
  },
  {
   "cell_type": "code",
   "execution_count": 20,
   "metadata": {},
   "outputs": [
    {
     "ename": "ValueError",
     "evalue": "unsupported format character 'm' (0x6d) at index 41",
     "traceback": [
      "\u001b[1;31m---------------------------------------------------------------------------\u001b[0m",
      "\u001b[1;31mValueError\u001b[0m                                Traceback (most recent call last)",
      "\u001b[1;32m<ipython-input-20-2c308234402e>\u001b[0m in \u001b[0;36m<module>\u001b[1;34m()\u001b[0m\n\u001b[1;32m----> 1\u001b[1;33m \u001b[0mengine\u001b[0m\u001b[1;33m.\u001b[0m\u001b[0mexecute\u001b[0m\u001b[1;33m(\u001b[0m\u001b[0mquery3\u001b[0m\u001b[1;33m)\u001b[0m\u001b[1;33m\u001b[0m\u001b[0m\n\u001b[0m",
      "\u001b[1;32m~\\Anaconda3\\envs\\pydata\\lib\\site-packages\\sqlalchemy\\engine\\base.py\u001b[0m in \u001b[0;36mexecute\u001b[1;34m(self, statement, *multiparams, **params)\u001b[0m\n\u001b[0;32m   2073\u001b[0m \u001b[1;33m\u001b[0m\u001b[0m\n\u001b[0;32m   2074\u001b[0m         \u001b[0mconnection\u001b[0m \u001b[1;33m=\u001b[0m \u001b[0mself\u001b[0m\u001b[1;33m.\u001b[0m\u001b[0mcontextual_connect\u001b[0m\u001b[1;33m(\u001b[0m\u001b[0mclose_with_result\u001b[0m\u001b[1;33m=\u001b[0m\u001b[1;32mTrue\u001b[0m\u001b[1;33m)\u001b[0m\u001b[1;33m\u001b[0m\u001b[0m\n\u001b[1;32m-> 2075\u001b[1;33m         \u001b[1;32mreturn\u001b[0m \u001b[0mconnection\u001b[0m\u001b[1;33m.\u001b[0m\u001b[0mexecute\u001b[0m\u001b[1;33m(\u001b[0m\u001b[0mstatement\u001b[0m\u001b[1;33m,\u001b[0m \u001b[1;33m*\u001b[0m\u001b[0mmultiparams\u001b[0m\u001b[1;33m,\u001b[0m \u001b[1;33m**\u001b[0m\u001b[0mparams\u001b[0m\u001b[1;33m)\u001b[0m\u001b[1;33m\u001b[0m\u001b[0m\n\u001b[0m\u001b[0;32m   2076\u001b[0m \u001b[1;33m\u001b[0m\u001b[0m\n\u001b[0;32m   2077\u001b[0m     \u001b[1;32mdef\u001b[0m \u001b[0mscalar\u001b[0m\u001b[1;33m(\u001b[0m\u001b[0mself\u001b[0m\u001b[1;33m,\u001b[0m \u001b[0mstatement\u001b[0m\u001b[1;33m,\u001b[0m \u001b[1;33m*\u001b[0m\u001b[0mmultiparams\u001b[0m\u001b[1;33m,\u001b[0m \u001b[1;33m**\u001b[0m\u001b[0mparams\u001b[0m\u001b[1;33m)\u001b[0m\u001b[1;33m:\u001b[0m\u001b[1;33m\u001b[0m\u001b[0m\n",
      "\u001b[1;32m~\\Anaconda3\\envs\\pydata\\lib\\site-packages\\sqlalchemy\\engine\\base.py\u001b[0m in \u001b[0;36mexecute\u001b[1;34m(self, object, *multiparams, **params)\u001b[0m\n\u001b[0;32m    940\u001b[0m         \"\"\"\n\u001b[0;32m    941\u001b[0m         \u001b[1;32mif\u001b[0m \u001b[0misinstance\u001b[0m\u001b[1;33m(\u001b[0m\u001b[0mobject\u001b[0m\u001b[1;33m,\u001b[0m \u001b[0mutil\u001b[0m\u001b[1;33m.\u001b[0m\u001b[0mstring_types\u001b[0m\u001b[1;33m[\u001b[0m\u001b[1;36m0\u001b[0m\u001b[1;33m]\u001b[0m\u001b[1;33m)\u001b[0m\u001b[1;33m:\u001b[0m\u001b[1;33m\u001b[0m\u001b[0m\n\u001b[1;32m--> 942\u001b[1;33m             \u001b[1;32mreturn\u001b[0m \u001b[0mself\u001b[0m\u001b[1;33m.\u001b[0m\u001b[0m_execute_text\u001b[0m\u001b[1;33m(\u001b[0m\u001b[0mobject\u001b[0m\u001b[1;33m,\u001b[0m \u001b[0mmultiparams\u001b[0m\u001b[1;33m,\u001b[0m \u001b[0mparams\u001b[0m\u001b[1;33m)\u001b[0m\u001b[1;33m\u001b[0m\u001b[0m\n\u001b[0m\u001b[0;32m    943\u001b[0m         \u001b[1;32mtry\u001b[0m\u001b[1;33m:\u001b[0m\u001b[1;33m\u001b[0m\u001b[0m\n\u001b[0;32m    944\u001b[0m             \u001b[0mmeth\u001b[0m \u001b[1;33m=\u001b[0m \u001b[0mobject\u001b[0m\u001b[1;33m.\u001b[0m\u001b[0m_execute_on_connection\u001b[0m\u001b[1;33m\u001b[0m\u001b[0m\n",
      "\u001b[1;32m~\\Anaconda3\\envs\\pydata\\lib\\site-packages\\sqlalchemy\\engine\\base.py\u001b[0m in \u001b[0;36m_execute_text\u001b[1;34m(self, statement, multiparams, params)\u001b[0m\n\u001b[0;32m   1102\u001b[0m             \u001b[0mstatement\u001b[0m\u001b[1;33m,\u001b[0m\u001b[1;33m\u001b[0m\u001b[0m\n\u001b[0;32m   1103\u001b[0m             \u001b[0mparameters\u001b[0m\u001b[1;33m,\u001b[0m\u001b[1;33m\u001b[0m\u001b[0m\n\u001b[1;32m-> 1104\u001b[1;33m             \u001b[0mstatement\u001b[0m\u001b[1;33m,\u001b[0m \u001b[0mparameters\u001b[0m\u001b[1;33m\u001b[0m\u001b[0m\n\u001b[0m\u001b[0;32m   1105\u001b[0m         )\n\u001b[0;32m   1106\u001b[0m         \u001b[1;32mif\u001b[0m \u001b[0mself\u001b[0m\u001b[1;33m.\u001b[0m\u001b[0m_has_events\u001b[0m \u001b[1;32mor\u001b[0m \u001b[0mself\u001b[0m\u001b[1;33m.\u001b[0m\u001b[0mengine\u001b[0m\u001b[1;33m.\u001b[0m\u001b[0m_has_events\u001b[0m\u001b[1;33m:\u001b[0m\u001b[1;33m\u001b[0m\u001b[0m\n",
      "\u001b[1;32m~\\Anaconda3\\envs\\pydata\\lib\\site-packages\\sqlalchemy\\engine\\base.py\u001b[0m in \u001b[0;36m_execute_context\u001b[1;34m(self, dialect, constructor, statement, parameters, *args)\u001b[0m\n\u001b[0;32m   1198\u001b[0m                 \u001b[0mparameters\u001b[0m\u001b[1;33m,\u001b[0m\u001b[1;33m\u001b[0m\u001b[0m\n\u001b[0;32m   1199\u001b[0m                 \u001b[0mcursor\u001b[0m\u001b[1;33m,\u001b[0m\u001b[1;33m\u001b[0m\u001b[0m\n\u001b[1;32m-> 1200\u001b[1;33m                 context)\n\u001b[0m\u001b[0;32m   1201\u001b[0m \u001b[1;33m\u001b[0m\u001b[0m\n\u001b[0;32m   1202\u001b[0m         \u001b[1;32mif\u001b[0m \u001b[0mself\u001b[0m\u001b[1;33m.\u001b[0m\u001b[0m_has_events\u001b[0m \u001b[1;32mor\u001b[0m \u001b[0mself\u001b[0m\u001b[1;33m.\u001b[0m\u001b[0mengine\u001b[0m\u001b[1;33m.\u001b[0m\u001b[0m_has_events\u001b[0m\u001b[1;33m:\u001b[0m\u001b[1;33m\u001b[0m\u001b[0m\n",
      "\u001b[1;32m~\\Anaconda3\\envs\\pydata\\lib\\site-packages\\sqlalchemy\\engine\\base.py\u001b[0m in \u001b[0;36m_handle_dbapi_exception\u001b[1;34m(self, e, statement, parameters, cursor, context)\u001b[0m\n\u001b[0;32m   1414\u001b[0m                 )\n\u001b[0;32m   1415\u001b[0m             \u001b[1;32melse\u001b[0m\u001b[1;33m:\u001b[0m\u001b[1;33m\u001b[0m\u001b[0m\n\u001b[1;32m-> 1416\u001b[1;33m                 \u001b[0mutil\u001b[0m\u001b[1;33m.\u001b[0m\u001b[0mreraise\u001b[0m\u001b[1;33m(\u001b[0m\u001b[1;33m*\u001b[0m\u001b[0mexc_info\u001b[0m\u001b[1;33m)\u001b[0m\u001b[1;33m\u001b[0m\u001b[0m\n\u001b[0m\u001b[0;32m   1417\u001b[0m \u001b[1;33m\u001b[0m\u001b[0m\n\u001b[0;32m   1418\u001b[0m         \u001b[1;32mfinally\u001b[0m\u001b[1;33m:\u001b[0m\u001b[1;33m\u001b[0m\u001b[0m\n",
      "\u001b[1;32m~\\Anaconda3\\envs\\pydata\\lib\\site-packages\\sqlalchemy\\util\\compat.py\u001b[0m in \u001b[0;36mreraise\u001b[1;34m(tp, value, tb, cause)\u001b[0m\n\u001b[0;32m    185\u001b[0m         \u001b[1;32mif\u001b[0m \u001b[0mvalue\u001b[0m\u001b[1;33m.\u001b[0m\u001b[0m__traceback__\u001b[0m \u001b[1;32mis\u001b[0m \u001b[1;32mnot\u001b[0m \u001b[0mtb\u001b[0m\u001b[1;33m:\u001b[0m\u001b[1;33m\u001b[0m\u001b[0m\n\u001b[0;32m    186\u001b[0m             \u001b[1;32mraise\u001b[0m \u001b[0mvalue\u001b[0m\u001b[1;33m.\u001b[0m\u001b[0mwith_traceback\u001b[0m\u001b[1;33m(\u001b[0m\u001b[0mtb\u001b[0m\u001b[1;33m)\u001b[0m\u001b[1;33m\u001b[0m\u001b[0m\n\u001b[1;32m--> 187\u001b[1;33m         \u001b[1;32mraise\u001b[0m \u001b[0mvalue\u001b[0m\u001b[1;33m\u001b[0m\u001b[0m\n\u001b[0m\u001b[0;32m    188\u001b[0m \u001b[1;33m\u001b[0m\u001b[0m\n\u001b[0;32m    189\u001b[0m \u001b[1;32melse\u001b[0m\u001b[1;33m:\u001b[0m\u001b[1;33m\u001b[0m\u001b[0m\n",
      "\u001b[1;32m~\\Anaconda3\\envs\\pydata\\lib\\site-packages\\sqlalchemy\\engine\\base.py\u001b[0m in \u001b[0;36m_execute_context\u001b[1;34m(self, dialect, constructor, statement, parameters, *args)\u001b[0m\n\u001b[0;32m   1191\u001b[0m                         \u001b[0mstatement\u001b[0m\u001b[1;33m,\u001b[0m\u001b[1;33m\u001b[0m\u001b[0m\n\u001b[0;32m   1192\u001b[0m                         \u001b[0mparameters\u001b[0m\u001b[1;33m,\u001b[0m\u001b[1;33m\u001b[0m\u001b[0m\n\u001b[1;32m-> 1193\u001b[1;33m                         context)\n\u001b[0m\u001b[0;32m   1194\u001b[0m         \u001b[1;32mexcept\u001b[0m \u001b[0mBaseException\u001b[0m \u001b[1;32mas\u001b[0m \u001b[0me\u001b[0m\u001b[1;33m:\u001b[0m\u001b[1;33m\u001b[0m\u001b[0m\n\u001b[0;32m   1195\u001b[0m             self._handle_dbapi_exception(\n",
      "\u001b[1;32m~\\Anaconda3\\envs\\pydata\\lib\\site-packages\\sqlalchemy\\engine\\default.py\u001b[0m in \u001b[0;36mdo_execute\u001b[1;34m(self, cursor, statement, parameters, context)\u001b[0m\n\u001b[0;32m    505\u001b[0m \u001b[1;33m\u001b[0m\u001b[0m\n\u001b[0;32m    506\u001b[0m     \u001b[1;32mdef\u001b[0m \u001b[0mdo_execute\u001b[0m\u001b[1;33m(\u001b[0m\u001b[0mself\u001b[0m\u001b[1;33m,\u001b[0m \u001b[0mcursor\u001b[0m\u001b[1;33m,\u001b[0m \u001b[0mstatement\u001b[0m\u001b[1;33m,\u001b[0m \u001b[0mparameters\u001b[0m\u001b[1;33m,\u001b[0m \u001b[0mcontext\u001b[0m\u001b[1;33m=\u001b[0m\u001b[1;32mNone\u001b[0m\u001b[1;33m)\u001b[0m\u001b[1;33m:\u001b[0m\u001b[1;33m\u001b[0m\u001b[0m\n\u001b[1;32m--> 507\u001b[1;33m         \u001b[0mcursor\u001b[0m\u001b[1;33m.\u001b[0m\u001b[0mexecute\u001b[0m\u001b[1;33m(\u001b[0m\u001b[0mstatement\u001b[0m\u001b[1;33m,\u001b[0m \u001b[0mparameters\u001b[0m\u001b[1;33m)\u001b[0m\u001b[1;33m\u001b[0m\u001b[0m\n\u001b[0m\u001b[0;32m    508\u001b[0m \u001b[1;33m\u001b[0m\u001b[0m\n\u001b[0;32m    509\u001b[0m     \u001b[1;32mdef\u001b[0m \u001b[0mdo_execute_no_params\u001b[0m\u001b[1;33m(\u001b[0m\u001b[0mself\u001b[0m\u001b[1;33m,\u001b[0m \u001b[0mcursor\u001b[0m\u001b[1;33m,\u001b[0m \u001b[0mstatement\u001b[0m\u001b[1;33m,\u001b[0m \u001b[0mcontext\u001b[0m\u001b[1;33m=\u001b[0m\u001b[1;32mNone\u001b[0m\u001b[1;33m)\u001b[0m\u001b[1;33m:\u001b[0m\u001b[1;33m\u001b[0m\u001b[0m\n",
      "\u001b[1;32m~\\Anaconda3\\envs\\pydata\\lib\\site-packages\\pymysql\\cursors.py\u001b[0m in \u001b[0;36mexecute\u001b[1;34m(self, query, args)\u001b[0m\n\u001b[0;32m    161\u001b[0m             \u001b[1;32mpass\u001b[0m\u001b[1;33m\u001b[0m\u001b[0m\n\u001b[0;32m    162\u001b[0m \u001b[1;33m\u001b[0m\u001b[0m\n\u001b[1;32m--> 163\u001b[1;33m         \u001b[0mquery\u001b[0m \u001b[1;33m=\u001b[0m \u001b[0mself\u001b[0m\u001b[1;33m.\u001b[0m\u001b[0mmogrify\u001b[0m\u001b[1;33m(\u001b[0m\u001b[0mquery\u001b[0m\u001b[1;33m,\u001b[0m \u001b[0margs\u001b[0m\u001b[1;33m)\u001b[0m\u001b[1;33m\u001b[0m\u001b[0m\n\u001b[0m\u001b[0;32m    164\u001b[0m \u001b[1;33m\u001b[0m\u001b[0m\n\u001b[0;32m    165\u001b[0m         \u001b[0mresult\u001b[0m \u001b[1;33m=\u001b[0m \u001b[0mself\u001b[0m\u001b[1;33m.\u001b[0m\u001b[0m_query\u001b[0m\u001b[1;33m(\u001b[0m\u001b[0mquery\u001b[0m\u001b[1;33m)\u001b[0m\u001b[1;33m\u001b[0m\u001b[0m\n",
      "\u001b[1;32m~\\Anaconda3\\envs\\pydata\\lib\\site-packages\\pymysql\\cursors.py\u001b[0m in \u001b[0;36mmogrify\u001b[1;34m(self, query, args)\u001b[0m\n\u001b[0;32m    140\u001b[0m \u001b[1;33m\u001b[0m\u001b[0m\n\u001b[0;32m    141\u001b[0m         \u001b[1;32mif\u001b[0m \u001b[0margs\u001b[0m \u001b[1;32mis\u001b[0m \u001b[1;32mnot\u001b[0m \u001b[1;32mNone\u001b[0m\u001b[1;33m:\u001b[0m\u001b[1;33m\u001b[0m\u001b[0m\n\u001b[1;32m--> 142\u001b[1;33m             \u001b[0mquery\u001b[0m \u001b[1;33m=\u001b[0m \u001b[0mquery\u001b[0m \u001b[1;33m%\u001b[0m \u001b[0mself\u001b[0m\u001b[1;33m.\u001b[0m\u001b[0m_escape_args\u001b[0m\u001b[1;33m(\u001b[0m\u001b[0margs\u001b[0m\u001b[1;33m,\u001b[0m \u001b[0mconn\u001b[0m\u001b[1;33m)\u001b[0m\u001b[1;33m\u001b[0m\u001b[0m\n\u001b[0m\u001b[0;32m    143\u001b[0m \u001b[1;33m\u001b[0m\u001b[0m\n\u001b[0;32m    144\u001b[0m         \u001b[1;32mreturn\u001b[0m \u001b[0mquery\u001b[0m\u001b[1;33m\u001b[0m\u001b[0m\n",
      "\u001b[1;31mValueError\u001b[0m: unsupported format character 'm' (0x6d) at index 41"
     ],
     "output_type": "error"
    }
   ],
   "source": [
    ""
   ]
  },
  {
   "cell_type": "code",
   "execution_count": null,
   "metadata": {},
   "outputs": [],
   "source": []
  }
 ],
 "metadata": {
  "kernelspec": {
   "display_name": "Python 3",
   "language": "python",
   "name": "python3"
  },
  "language_info": {
   "codemirror_mode": {
    "name": "ipython",
    "version": 3
   },
   "file_extension": ".py",
   "mimetype": "text/x-python",
   "name": "python",
   "nbconvert_exporter": "python",
   "pygments_lexer": "ipython3",
   "version": "3.6.3"
  }
 },
 "nbformat": 4,
 "nbformat_minor": 2
}
